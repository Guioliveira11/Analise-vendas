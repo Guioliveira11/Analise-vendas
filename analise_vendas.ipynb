{
 "cells": [
  {
   "cell_type": "code",
   "execution_count": 18,
   "id": "7ccaa9c9",
   "metadata": {},
   "outputs": [
    {
     "name": "stdout",
     "output_type": "stream",
     "text": [
      "Collecting statistics\n",
      "  Downloading statistics-1.0.3.5.tar.gz (8.3 kB)\n",
      "  Installing build dependencies: started\n",
      "  Installing build dependencies: finished with status 'done'\n",
      "  Getting requirements to build wheel: started\n",
      "  Getting requirements to build wheel: finished with status 'done'\n",
      "  Preparing metadata (pyproject.toml): started\n",
      "  Preparing metadata (pyproject.toml): finished with status 'done'\n",
      "Collecting docutils>=0.3 (from statistics)\n",
      "  Downloading docutils-0.21.2-py3-none-any.whl.metadata (2.8 kB)\n",
      "Downloading docutils-0.21.2-py3-none-any.whl (587 kB)\n",
      "   ---------------------------------------- 0.0/587.4 kB ? eta -:--:--\n",
      "   ---------------------------------------- 0.0/587.4 kB ? eta -:--:--\n",
      "   -- ------------------------------------ 30.7/587.4 kB 660.6 kB/s eta 0:00:01\n",
      "   -------- ------------------------------- 122.9/587.4 kB 1.4 MB/s eta 0:00:01\n",
      "   -------------------- ------------------- 307.2/587.4 kB 2.4 MB/s eta 0:00:01\n",
      "   ---------------------------------------  583.7/587.4 kB 3.3 MB/s eta 0:00:01\n",
      "   ---------------------------------------- 587.4/587.4 kB 2.8 MB/s eta 0:00:00\n",
      "Building wheels for collected packages: statistics\n",
      "  Building wheel for statistics (pyproject.toml): started\n",
      "  Building wheel for statistics (pyproject.toml): finished with status 'done'\n",
      "  Created wheel for statistics: filename=statistics-1.0.3.5-py3-none-any.whl size=7507 sha256=4b31c90415c46993e771a6b9cbcb4f6b025ce6ceb8fcfa8f83f833e2ef6546fe\n",
      "  Stored in directory: c:\\users\\priscila\\appdata\\local\\packages\\pythonsoftwarefoundation.python.3.11_qbz5n2kfra8p0\\localcache\\local\\pip\\cache\\wheels\\a7\\30\\34\\fceae1c718a4e749dd51f479c5720c0671519887e824915e90\n",
      "Successfully built statistics\n",
      "Installing collected packages: docutils, statistics\n",
      "Successfully installed docutils-0.21.2 statistics-1.0.3.5\n"
     ]
    },
    {
     "name": "stderr",
     "output_type": "stream",
     "text": [
      "\n",
      "[notice] A new release of pip is available: 24.0 -> 25.1.1\n",
      "[notice] To update, run: C:\\Users\\Priscila\\AppData\\Local\\Microsoft\\WindowsApps\\PythonSoftwareFoundation.Python.3.11_qbz5n2kfra8p0\\python.exe -m pip install --upgrade pip\n"
     ]
    }
   ],
   "source": [
    "! pip install statistics"
   ]
  },
  {
   "cell_type": "code",
   "execution_count": null,
   "id": "23c26436",
   "metadata": {},
   "outputs": [
    {
     "name": "stdout",
     "output_type": "stream",
     "text": [
      "\n",
      "Produto(s) mais vendido(s) (por unidades totais):\n",
      "- Teclado (24 unidades)\n",
      "\n",
      "Todas as vendas registradas:\n",
      "\n",
      "3 - 25/06/2025 - 23 - Teclado\n",
      "2 - 13/06/2025 - 3 - Tenis\n",
      "9 - 22/07/2025 - 4 - Boné\n",
      "8 - 21/07/2025 - 3 - Boné\n",
      "1 - 13/06/2025 - 1 - Boné\n",
      "10 - 22/07/2025 - 3 - Luva\n",
      "11 - 25/07/2025 - 1 - Notebook\n",
      "6 - 01/07/2025 - 5 - Notebook\n",
      "12 - 25/07/2025 - 1 - livro\n",
      "14 - 25/07/2025 - 1 - Caderno\n",
      "13 - 25/07/2025 - 3 - Caderno\n",
      "15 - 25/07/2025 - 1 - Mouse\n",
      "16 - 25/07/2025 - 1 - Playstation 4\n",
      "17 - 25/07/2025 - 1 - Teclado\n"
     ]
    }
   ],
   "source": [
    "import psycopg2\n",
    "from collections import defaultdict\n",
    "\n",
    "class Vendas:\n",
    "    def __init__(self, id, data, quantidade, nome):\n",
    "        self.id = id\n",
    "        self.quantidade = quantidade\n",
    "        self.data = data \n",
    "        self.nome = nome\n",
    "\n",
    "    def __repr__(self):\n",
    "        return f\"{self.id} - {self.data} - {self.quantidade} - {self.nome}\"\n",
    "\n",
    "# Conexão com o banco\n",
    "conexao = psycopg2.connect(\n",
    "    host=\"localhost\",\n",
    "    database=\"postgres\",\n",
    "    user=\"postgres\",\n",
    "    password=\"#280305\"\n",
    ")\n",
    "\n",
    "cursor = conexao.cursor()\n",
    "\n",
    "# Join para obter nome e quantidade\n",
    "cursor.execute(\"\"\"\n",
    "    SELECT rv.id_vendidos, rv.data_venda, rv.quantidade_venda, p.nome\n",
    "    FROM public.vendidos rv\n",
    "    JOIN public.produto p ON rv.id_produto = p.id_produto;\n",
    "\"\"\")\n",
    "\n",
    "registros = cursor.fetchall()\n",
    "\n",
    "\n",
    "vendas = [\n",
    "    Vendas(id, data.strftime('%d/%m/%Y'), int(quantidade), nome)\n",
    "    for id, data, quantidade, nome in registros\n",
    "]\n",
    "\n",
    "\n",
    "cursor.close()\n",
    "conexao.close()\n",
    "\n",
    "# 🔢 Agrupar e somar quantidades por produto\n",
    "quantidades_por_produto = defaultdict(int)\n",
    "\n",
    "for venda in vendas:\n",
    "    quantidades_por_produto[venda.nome] += venda.quantidade\n",
    "\n",
    "# 🏆 Encontrar o(s) mais vendido(s)\n",
    "max_quantidade = max(quantidades_por_produto.values())\n",
    "mais_vendidos = [produto for produto, total in quantidades_por_produto.items() if total == max_quantidade]\n",
    "\n",
    "\n",
    "print(\"\\nProduto(s) mais vendido(s) (por unidades totais):\")\n",
    "for produto in mais_vendidos:\n",
    "    print(f\"- {produto} ({quantidades_por_produto[produto]} unidades)\")\n",
    "\n",
    "print(\"\\nTodas as vendas registradas:\\n\")\n",
    "for venda in vendas:\n",
    "    print(venda)\n"
   ]
  }
 ],
 "metadata": {
  "kernelspec": {
   "display_name": "Python 3",
   "language": "python",
   "name": "python3"
  },
  "language_info": {
   "codemirror_mode": {
    "name": "ipython",
    "version": 3
   },
   "file_extension": ".py",
   "mimetype": "text/x-python",
   "name": "python",
   "nbconvert_exporter": "python",
   "pygments_lexer": "ipython3",
   "version": "3.11.9"
  }
 },
 "nbformat": 4,
 "nbformat_minor": 5
}
